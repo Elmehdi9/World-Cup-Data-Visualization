{
 "cells": [
  {
   "cell_type": "markdown",
   "id": "14412361",
   "metadata": {},
   "source": [
    "### Imports"
   ]
  },
  {
   "cell_type": "code",
   "execution_count": 1,
   "id": "36731c7a",
   "metadata": {},
   "outputs": [],
   "source": [
    "import scipy\n",
    "import math\n",
    "import pandas as pd\n",
    "import numpy as np\n",
    "import seaborn as sns \n",
    "import statsbombpy as sb\n",
    "import matplotlib.pyplot as plt\n",
    "from PIL import Image"
   ]
  },
  {
   "cell_type": "code",
   "execution_count": 2,
   "id": "1d92fee9",
   "metadata": {},
   "outputs": [],
   "source": [
    "passesDF= pd.read_parquet('../Data/passes.parquet')\n",
    "carriesDF= pd.read_parquet('../Data/carrys.parquet')\n",
    "itcDF= pd.read_parquet('../Data/inteceptions.parquet')\n",
    "dribblesDF= pd.read_parquet('../Data/dribbles.parquet')\n",
    "pressuresDF= pd.read_parquet('../Data/pressures.parquet')\n",
    "shotsDF= pd.read_parquet('../Data/shots.parquet')"
   ]
  },
  {
   "cell_type": "markdown",
   "id": "2548cb52",
   "metadata": {},
   "source": [
    "## Players aggregated stats  \n",
    "### Passes"
   ]
  },
  {
   "cell_type": "markdown",
   "id": "1be603bf",
   "metadata": {},
   "source": [
    "1. Progressive Passes"
   ]
  },
  {
   "cell_type": "code",
   "execution_count": 3,
   "id": "6596393e",
   "metadata": {},
   "outputs": [
    {
     "data": {
      "text/html": [
       "<div>\n",
       "<style scoped>\n",
       "    .dataframe tbody tr th:only-of-type {\n",
       "        vertical-align: middle;\n",
       "    }\n",
       "\n",
       "    .dataframe tbody tr th {\n",
       "        vertical-align: top;\n",
       "    }\n",
       "\n",
       "    .dataframe thead th {\n",
       "        text-align: right;\n",
       "    }\n",
       "</style>\n",
       "<table border=\"1\" class=\"dataframe\">\n",
       "  <thead>\n",
       "    <tr style=\"text-align: right;\">\n",
       "      <th></th>\n",
       "      <th>player_id</th>\n",
       "      <th>player</th>\n",
       "      <th>Progressive passes</th>\n",
       "    </tr>\n",
       "  </thead>\n",
       "  <tbody>\n",
       "    <tr>\n",
       "      <th>0</th>\n",
       "      <td>2941</td>\n",
       "      <td>Ismaïla Sarr</td>\n",
       "      <td>22</td>\n",
       "    </tr>\n",
       "    <tr>\n",
       "      <th>1</th>\n",
       "      <td>2954</td>\n",
       "      <td>Youri Tielemans</td>\n",
       "      <td>10</td>\n",
       "    </tr>\n",
       "    <tr>\n",
       "      <th>2</th>\n",
       "      <td>2972</td>\n",
       "      <td>Marcus Thuram</td>\n",
       "      <td>4</td>\n",
       "    </tr>\n",
       "    <tr>\n",
       "      <th>3</th>\n",
       "      <td>2988</td>\n",
       "      <td>Memphis Depay</td>\n",
       "      <td>23</td>\n",
       "    </tr>\n",
       "    <tr>\n",
       "      <th>4</th>\n",
       "      <td>2989</td>\n",
       "      <td>Alexander Djiku</td>\n",
       "      <td>4</td>\n",
       "    </tr>\n",
       "  </tbody>\n",
       "</table>\n",
       "</div>"
      ],
      "text/plain": [
       "   player_id           player  Progressive passes\n",
       "0       2941     Ismaïla Sarr                  22\n",
       "1       2954  Youri Tielemans                  10\n",
       "2       2972    Marcus Thuram                   4\n",
       "3       2988    Memphis Depay                  23\n",
       "4       2989  Alexander Djiku                   4"
      ]
     },
     "execution_count": 3,
     "metadata": {},
     "output_type": "execute_result"
    }
   ],
   "source": [
    "# Progressive passes - passes made under pressure - completed passes made under pressure - passes under pressure comletion rate\n",
    "# Goal coordinates    \n",
    "goal_X= 120\n",
    "goal_Y= 40\n",
    "\n",
    "# Add starting location coordinates\n",
    "passesDF[['X', 'Y']] = pd.DataFrame(passesDF['location'].to_list(), index= passesDF.index)\n",
    "\n",
    "# Add end location coordinates\n",
    "passesDF[['end_X', 'end_Y']]= pd.DataFrame(passesDF['pass_end_location'].to_list(), index= passesDF.index)\n",
    "\n",
    "# add the distance between starting point and the goal (progressie passes calculation):\n",
    "passesDF['start_distance']= np.sqrt((goal_X - passesDF.X)**2 + (goal_Y - passesDF.Y)**2)\n",
    "passesDF['end_distance']= np.sqrt((goal_X - passesDF.end_X)**2 + (goal_Y - passesDF.end_Y)**2)\n",
    "\n",
    "# check if a pass is progressive or not\n",
    "passesDF['isProgressive'] = ((abs(passesDF['start_distance'] - passesDF['end_distance']) >= 0.25 * passesDF['start_distance']) & \n",
    "                             (abs(passesDF['Y'] - passesDF['end_Y']) >= 5)).tolist()\n",
    "\n",
    "progressive_passes_DF = passesDF.groupby([\"player_id\", \"player\"])[\"isProgressive\"].sum().reset_index()\n",
    "progressive_passes_DF.rename(columns= {'isProgressive':'Progressive passes'}, inplace= True )\n",
    "progressive_passes_DF.head()"
   ]
  },
  {
   "cell_type": "markdown",
   "id": "5d7ae551",
   "metadata": {},
   "source": [
    "2. Total number of passes made under pressure, total number of completed passes made under pressure, and completion rate"
   ]
  },
  {
   "cell_type": "code",
   "execution_count": 4,
   "id": "c63aa3a5",
   "metadata": {},
   "outputs": [
    {
     "data": {
      "text/html": [
       "<div>\n",
       "<style scoped>\n",
       "    .dataframe tbody tr th:only-of-type {\n",
       "        vertical-align: middle;\n",
       "    }\n",
       "\n",
       "    .dataframe tbody tr th {\n",
       "        vertical-align: top;\n",
       "    }\n",
       "\n",
       "    .dataframe thead th {\n",
       "        text-align: right;\n",
       "    }\n",
       "</style>\n",
       "<table border=\"1\" class=\"dataframe\">\n",
       "  <thead>\n",
       "    <tr style=\"text-align: right;\">\n",
       "      <th></th>\n",
       "      <th>player_id</th>\n",
       "      <th>Passes completed</th>\n",
       "      <th>Passes</th>\n",
       "      <th>Passing completion rate</th>\n",
       "    </tr>\n",
       "  </thead>\n",
       "  <tbody>\n",
       "    <tr>\n",
       "      <th>0</th>\n",
       "      <td>2941</td>\n",
       "      <td>12</td>\n",
       "      <td>20</td>\n",
       "      <td>60.00</td>\n",
       "    </tr>\n",
       "    <tr>\n",
       "      <th>1</th>\n",
       "      <td>2954</td>\n",
       "      <td>6</td>\n",
       "      <td>7</td>\n",
       "      <td>85.71</td>\n",
       "    </tr>\n",
       "    <tr>\n",
       "      <th>2</th>\n",
       "      <td>2972</td>\n",
       "      <td>10</td>\n",
       "      <td>17</td>\n",
       "      <td>58.82</td>\n",
       "    </tr>\n",
       "    <tr>\n",
       "      <th>3</th>\n",
       "      <td>2988</td>\n",
       "      <td>17</td>\n",
       "      <td>27</td>\n",
       "      <td>62.96</td>\n",
       "    </tr>\n",
       "    <tr>\n",
       "      <th>4</th>\n",
       "      <td>2995</td>\n",
       "      <td>20</td>\n",
       "      <td>24</td>\n",
       "      <td>83.33</td>\n",
       "    </tr>\n",
       "  </tbody>\n",
       "</table>\n",
       "</div>"
      ],
      "text/plain": [
       "   player_id  Passes completed  Passes  Passing completion rate\n",
       "0       2941                12      20                    60.00\n",
       "1       2954                 6       7                    85.71\n",
       "2       2972                10      17                    58.82\n",
       "3       2988                17      27                    62.96\n",
       "4       2995                20      24                    83.33"
      ]
     },
     "execution_count": 4,
     "metadata": {},
     "output_type": "execute_result"
    }
   ],
   "source": [
    "passesDF['pass_outcome'] = passesDF['pass_outcome'].fillna(True)\n",
    "passesDF= passesDF.loc[passesDF['under_pressure']== True]\n",
    "# total number of passes played under pressure by player\n",
    "pass_count = passesDF.groupby('player_id')['pass_outcome'].count().reset_index()\n",
    "pass_count.rename(columns= {'pass_outcome': 'Passes'}, inplace=True)\n",
    "\n",
    "# Total of successful passes played under presures\n",
    "succ_passes= passesDF.loc[~(passesDF.pass_outcome.isin(['Incomplete', 'Unknown', 'Pass Offside','Out', 'Injury Clearance']))]\n",
    "succ_passes_count= succ_passes.groupby('player_id')['pass_outcome'].count().reset_index()\n",
    "succ_passes_count.rename(columns= {'pass_outcome': 'Passes completed'}, inplace=True)\n",
    "\n",
    "merged_passes = succ_passes_count.merge(pass_count, on='player_id', how='left')\n",
    "merged_passes['Passing completion rate']= round((merged_passes['Passes completed']/ merged_passes['Passes']) * 100, 2)\n",
    "merged_passes.head()"
   ]
  },
  {
   "cell_type": "code",
   "execution_count": 5,
   "id": "6e80d602",
   "metadata": {
    "scrolled": true
   },
   "outputs": [
    {
     "data": {
      "text/html": [
       "<div>\n",
       "<style scoped>\n",
       "    .dataframe tbody tr th:only-of-type {\n",
       "        vertical-align: middle;\n",
       "    }\n",
       "\n",
       "    .dataframe tbody tr th {\n",
       "        vertical-align: top;\n",
       "    }\n",
       "\n",
       "    .dataframe thead th {\n",
       "        text-align: right;\n",
       "    }\n",
       "</style>\n",
       "<table border=\"1\" class=\"dataframe\">\n",
       "  <thead>\n",
       "    <tr style=\"text-align: right;\">\n",
       "      <th></th>\n",
       "      <th>player_id</th>\n",
       "      <th>Passes completed</th>\n",
       "      <th>Passes</th>\n",
       "      <th>Passing completion rate</th>\n",
       "      <th>player</th>\n",
       "      <th>Progressive passes</th>\n",
       "    </tr>\n",
       "  </thead>\n",
       "  <tbody>\n",
       "    <tr>\n",
       "      <th>0</th>\n",
       "      <td>2941</td>\n",
       "      <td>12</td>\n",
       "      <td>20</td>\n",
       "      <td>60.00</td>\n",
       "      <td>Ismaïla Sarr</td>\n",
       "      <td>22</td>\n",
       "    </tr>\n",
       "    <tr>\n",
       "      <th>1</th>\n",
       "      <td>2954</td>\n",
       "      <td>6</td>\n",
       "      <td>7</td>\n",
       "      <td>85.71</td>\n",
       "      <td>Youri Tielemans</td>\n",
       "      <td>10</td>\n",
       "    </tr>\n",
       "    <tr>\n",
       "      <th>2</th>\n",
       "      <td>2972</td>\n",
       "      <td>10</td>\n",
       "      <td>17</td>\n",
       "      <td>58.82</td>\n",
       "      <td>Marcus Thuram</td>\n",
       "      <td>4</td>\n",
       "    </tr>\n",
       "    <tr>\n",
       "      <th>3</th>\n",
       "      <td>2988</td>\n",
       "      <td>17</td>\n",
       "      <td>27</td>\n",
       "      <td>62.96</td>\n",
       "      <td>Memphis Depay</td>\n",
       "      <td>23</td>\n",
       "    </tr>\n",
       "    <tr>\n",
       "      <th>4</th>\n",
       "      <td>2995</td>\n",
       "      <td>20</td>\n",
       "      <td>24</td>\n",
       "      <td>83.33</td>\n",
       "      <td>Ángel Fabián Di María Hernández</td>\n",
       "      <td>51</td>\n",
       "    </tr>\n",
       "  </tbody>\n",
       "</table>\n",
       "</div>"
      ],
      "text/plain": [
       "   player_id  Passes completed  Passes  Passing completion rate  \\\n",
       "0       2941                12      20                    60.00   \n",
       "1       2954                 6       7                    85.71   \n",
       "2       2972                10      17                    58.82   \n",
       "3       2988                17      27                    62.96   \n",
       "4       2995                20      24                    83.33   \n",
       "\n",
       "                            player  Progressive passes  \n",
       "0                     Ismaïla Sarr                  22  \n",
       "1                  Youri Tielemans                  10  \n",
       "2                    Marcus Thuram                   4  \n",
       "3                    Memphis Depay                  23  \n",
       "4  Ángel Fabián Di María Hernández                  51  "
      ]
     },
     "execution_count": 5,
     "metadata": {},
     "output_type": "execute_result"
    }
   ],
   "source": [
    "# merge passes data\n",
    "passesDF= merged_passes.merge(progressive_passes_DF, on= 'player_id', how= 'left')\n",
    "passesDF.head()"
   ]
  },
  {
   "cell_type": "markdown",
   "id": "a03baab6",
   "metadata": {},
   "source": [
    "## Carries"
   ]
  },
  {
   "cell_type": "code",
   "execution_count": 6,
   "id": "cc33a676",
   "metadata": {},
   "outputs": [
    {
     "data": {
      "text/html": [
       "<div>\n",
       "<style scoped>\n",
       "    .dataframe tbody tr th:only-of-type {\n",
       "        vertical-align: middle;\n",
       "    }\n",
       "\n",
       "    .dataframe tbody tr th {\n",
       "        vertical-align: top;\n",
       "    }\n",
       "\n",
       "    .dataframe thead th {\n",
       "        text-align: right;\n",
       "    }\n",
       "</style>\n",
       "<table border=\"1\" class=\"dataframe\">\n",
       "  <thead>\n",
       "    <tr style=\"text-align: right;\">\n",
       "      <th></th>\n",
       "      <th>player_id</th>\n",
       "      <th>Progressive carries</th>\n",
       "    </tr>\n",
       "  </thead>\n",
       "  <tbody>\n",
       "    <tr>\n",
       "      <th>0</th>\n",
       "      <td>2941</td>\n",
       "      <td>13</td>\n",
       "    </tr>\n",
       "    <tr>\n",
       "      <th>1</th>\n",
       "      <td>2954</td>\n",
       "      <td>0</td>\n",
       "    </tr>\n",
       "    <tr>\n",
       "      <th>2</th>\n",
       "      <td>2972</td>\n",
       "      <td>6</td>\n",
       "    </tr>\n",
       "    <tr>\n",
       "      <th>3</th>\n",
       "      <td>2988</td>\n",
       "      <td>8</td>\n",
       "    </tr>\n",
       "    <tr>\n",
       "      <th>4</th>\n",
       "      <td>2989</td>\n",
       "      <td>1</td>\n",
       "    </tr>\n",
       "  </tbody>\n",
       "</table>\n",
       "</div>"
      ],
      "text/plain": [
       "   player_id  Progressive carries\n",
       "0       2941                   13\n",
       "1       2954                    0\n",
       "2       2972                    6\n",
       "3       2988                    8\n",
       "4       2989                    1"
      ]
     },
     "execution_count": 6,
     "metadata": {},
     "output_type": "execute_result"
    }
   ],
   "source": [
    "# Goal coordinates    \n",
    "goal_X= 120\n",
    "goal_Y= 40\n",
    "\n",
    "# Add starting location coordinates\n",
    "carriesDF[['X', 'Y']] = pd.DataFrame(carriesDF['location'].to_list(), index= carriesDF.index)\n",
    "\n",
    "# Add end location coordinates\n",
    "carriesDF[['end_X', 'end_Y']]= pd.DataFrame(carriesDF['carry_end_location'].to_list(), index= carriesDF.index)\n",
    "\n",
    "# add the distance between starting point and the goal (progressie passes calculation):\n",
    "carriesDF['start_distance']= np.sqrt((goal_X - carriesDF.X)**2 + (goal_Y - carriesDF.Y)**2)\n",
    "carriesDF['end_distance']= np.sqrt((goal_X - carriesDF.end_X)**2 + (goal_Y - carriesDF.end_Y)**2)\n",
    "\n",
    "# check if a pass is progressive or not\n",
    "carriesDF['isProgressive'] = ((abs(carriesDF['start_distance'] - carriesDF['end_distance']) >= 0.25 * carriesDF['start_distance']) & \n",
    "                             (abs(carriesDF['Y'] - carriesDF['end_Y']) >= 5)).tolist()\n",
    "\n",
    "carriesDF = carriesDF.groupby(\"player_id\")[\"isProgressive\"].sum().reset_index()\n",
    "carriesDF.rename(columns= {'isProgressive':'Progressive carries'}, inplace= True )\n",
    "carriesDF.head()"
   ]
  },
  {
   "cell_type": "markdown",
   "id": "71093dda",
   "metadata": {},
   "source": [
    "### Pressures and succesful dribbles"
   ]
  },
  {
   "cell_type": "code",
   "execution_count": 7,
   "id": "5ed01495",
   "metadata": {},
   "outputs": [
    {
     "data": {
      "text/html": [
       "<div>\n",
       "<style scoped>\n",
       "    .dataframe tbody tr th:only-of-type {\n",
       "        vertical-align: middle;\n",
       "    }\n",
       "\n",
       "    .dataframe tbody tr th {\n",
       "        vertical-align: top;\n",
       "    }\n",
       "\n",
       "    .dataframe thead th {\n",
       "        text-align: right;\n",
       "    }\n",
       "</style>\n",
       "<table border=\"1\" class=\"dataframe\">\n",
       "  <thead>\n",
       "    <tr style=\"text-align: right;\">\n",
       "      <th></th>\n",
       "      <th>player_id</th>\n",
       "      <th>Pressures</th>\n",
       "    </tr>\n",
       "  </thead>\n",
       "  <tbody>\n",
       "    <tr>\n",
       "      <th>0</th>\n",
       "      <td>2941</td>\n",
       "      <td>50</td>\n",
       "    </tr>\n",
       "    <tr>\n",
       "      <th>1</th>\n",
       "      <td>2954</td>\n",
       "      <td>15</td>\n",
       "    </tr>\n",
       "    <tr>\n",
       "      <th>2</th>\n",
       "      <td>2972</td>\n",
       "      <td>30</td>\n",
       "    </tr>\n",
       "    <tr>\n",
       "      <th>3</th>\n",
       "      <td>2988</td>\n",
       "      <td>45</td>\n",
       "    </tr>\n",
       "    <tr>\n",
       "      <th>4</th>\n",
       "      <td>2989</td>\n",
       "      <td>5</td>\n",
       "    </tr>\n",
       "  </tbody>\n",
       "</table>\n",
       "</div>"
      ],
      "text/plain": [
       "   player_id  Pressures\n",
       "0       2941         50\n",
       "1       2954         15\n",
       "2       2972         30\n",
       "3       2988         45\n",
       "4       2989          5"
      ]
     },
     "execution_count": 7,
     "metadata": {},
     "output_type": "execute_result"
    }
   ],
   "source": [
    "# Pressures\n",
    "pressuresDF= pressuresDF.groupby('player_id')['type'].count().reset_index()\n",
    "pressuresDF.rename(columns={'type': 'Pressures'}, inplace= True)\n",
    "pressuresDF.head()"
   ]
  },
  {
   "cell_type": "code",
   "execution_count": 8,
   "id": "770be9d2",
   "metadata": {},
   "outputs": [
    {
     "data": {
      "text/html": [
       "<div>\n",
       "<style scoped>\n",
       "    .dataframe tbody tr th:only-of-type {\n",
       "        vertical-align: middle;\n",
       "    }\n",
       "\n",
       "    .dataframe tbody tr th {\n",
       "        vertical-align: top;\n",
       "    }\n",
       "\n",
       "    .dataframe thead th {\n",
       "        text-align: right;\n",
       "    }\n",
       "</style>\n",
       "<table border=\"1\" class=\"dataframe\">\n",
       "  <thead>\n",
       "    <tr style=\"text-align: right;\">\n",
       "      <th></th>\n",
       "      <th>player_id</th>\n",
       "      <th>Completed dribbles</th>\n",
       "    </tr>\n",
       "  </thead>\n",
       "  <tbody>\n",
       "    <tr>\n",
       "      <th>0</th>\n",
       "      <td>2941</td>\n",
       "      <td>9</td>\n",
       "    </tr>\n",
       "    <tr>\n",
       "      <th>1</th>\n",
       "      <td>2954</td>\n",
       "      <td>1</td>\n",
       "    </tr>\n",
       "    <tr>\n",
       "      <th>2</th>\n",
       "      <td>2972</td>\n",
       "      <td>4</td>\n",
       "    </tr>\n",
       "    <tr>\n",
       "      <th>3</th>\n",
       "      <td>2988</td>\n",
       "      <td>3</td>\n",
       "    </tr>\n",
       "    <tr>\n",
       "      <th>4</th>\n",
       "      <td>2989</td>\n",
       "      <td>1</td>\n",
       "    </tr>\n",
       "  </tbody>\n",
       "</table>\n",
       "</div>"
      ],
      "text/plain": [
       "   player_id  Completed dribbles\n",
       "0       2941                   9\n",
       "1       2954                   1\n",
       "2       2972                   4\n",
       "3       2988                   3\n",
       "4       2989                   1"
      ]
     },
     "execution_count": 8,
     "metadata": {},
     "output_type": "execute_result"
    }
   ],
   "source": [
    "# Succesful Dribbles\n",
    "dribblesDF= dribblesDF.loc[dribblesDF['dribble_outcome']== 'Complete']\n",
    "dribblesDF= dribblesDF.groupby('player_id')['dribble_outcome'].count().reset_index()\n",
    "dribblesDF.rename(columns={'dribble_outcome': 'Completed dribbles'}, inplace= True)\n",
    "dribblesDF.head()"
   ]
  },
  {
   "cell_type": "markdown",
   "id": "8fba5d7e",
   "metadata": {},
   "source": [
    "### Non-penalty xG, number of shots taken, xG per shot"
   ]
  },
  {
   "cell_type": "code",
   "execution_count": 9,
   "id": "9110b3f3",
   "metadata": {},
   "outputs": [
    {
     "data": {
      "text/html": [
       "<div>\n",
       "<style scoped>\n",
       "    .dataframe tbody tr th:only-of-type {\n",
       "        vertical-align: middle;\n",
       "    }\n",
       "\n",
       "    .dataframe tbody tr th {\n",
       "        vertical-align: top;\n",
       "    }\n",
       "\n",
       "    .dataframe thead th {\n",
       "        text-align: right;\n",
       "    }\n",
       "</style>\n",
       "<table border=\"1\" class=\"dataframe\">\n",
       "  <thead>\n",
       "    <tr style=\"text-align: right;\">\n",
       "      <th></th>\n",
       "      <th>player_id</th>\n",
       "      <th>xG</th>\n",
       "      <th>number of shots</th>\n",
       "      <th>xG/Shot</th>\n",
       "    </tr>\n",
       "  </thead>\n",
       "  <tbody>\n",
       "    <tr>\n",
       "      <th>0</th>\n",
       "      <td>2941</td>\n",
       "      <td>1.85</td>\n",
       "      <td>10</td>\n",
       "      <td>0.18</td>\n",
       "    </tr>\n",
       "    <tr>\n",
       "      <th>1</th>\n",
       "      <td>2972</td>\n",
       "      <td>0.12</td>\n",
       "      <td>1</td>\n",
       "      <td>0.12</td>\n",
       "    </tr>\n",
       "    <tr>\n",
       "      <th>2</th>\n",
       "      <td>2988</td>\n",
       "      <td>1.18</td>\n",
       "      <td>10</td>\n",
       "      <td>0.12</td>\n",
       "    </tr>\n",
       "    <tr>\n",
       "      <th>3</th>\n",
       "      <td>2995</td>\n",
       "      <td>0.53</td>\n",
       "      <td>7</td>\n",
       "      <td>0.08</td>\n",
       "    </tr>\n",
       "    <tr>\n",
       "      <th>4</th>\n",
       "      <td>3009</td>\n",
       "      <td>5.02</td>\n",
       "      <td>32</td>\n",
       "      <td>0.16</td>\n",
       "    </tr>\n",
       "  </tbody>\n",
       "</table>\n",
       "</div>"
      ],
      "text/plain": [
       "   player_id    xG  number of shots  xG/Shot\n",
       "0       2941  1.85               10     0.18\n",
       "1       2972  0.12                1     0.12\n",
       "2       2988  1.18               10     0.12\n",
       "3       2995  0.53                7     0.08\n",
       "4       3009  5.02               32     0.16"
      ]
     },
     "execution_count": 9,
     "metadata": {},
     "output_type": "execute_result"
    }
   ],
   "source": [
    "# shot_statsbomb_xg\n",
    "xgDF= shotsDF.groupby('player_id')['shot_statsbomb_xg'].sum().reset_index()\n",
    "\n",
    "# Number of shots taken \n",
    "num_shotsDF= shotsDF.groupby('player_id')['type'].count().reset_index()\n",
    "\n",
    "# merge DFs on player_id & rename columns\n",
    "shotsDF= xgDF.merge(num_shotsDF, on= 'player_id', how= 'left')\n",
    "shotsDF.rename(columns= {'shot_statsbomb_xg': 'xG', 'type': 'number of shots'}, inplace= True)\n",
    "\n",
    "# then xG/shot\n",
    "shotsDF['xG']=  round(shotsDF['xG'], 2)\n",
    "shotsDF['xG/Shot']= round(shotsDF['xG']/ shotsDF['number of shots'], 2)\n",
    "shotsDF.head()"
   ]
  },
  {
   "cell_type": "markdown",
   "id": "539e5db5",
   "metadata": {},
   "source": [
    " ### Merge all dataframes"
   ]
  },
  {
   "cell_type": "code",
   "execution_count": 10,
   "id": "a94f050b",
   "metadata": {},
   "outputs": [
    {
     "data": {
      "text/plain": [
       "<AxesSubplot:>"
      ]
     },
     "execution_count": 10,
     "metadata": {},
     "output_type": "execute_result"
    },
    {
     "data": {
      "image/png": "[encoded data removed]",
      "text/plain": [
       "<Figure size 432x288 with 2 Axes>"
      ]
     },
     "metadata": {
      "needs_background": "light"
     },
     "output_type": "display_data"
    }
   ],
   "source": [
    "# Merge all columns\n",
    "DF= passesDF.merge(carriesDF, on= 'player_id', how='outer')\n",
    "DF= DF.merge(pressuresDF, on='player_id', how='outer')\n",
    "DF= DF.merge(dribblesDF, on= 'player_id', how= 'outer')\n",
    "DF= DF.merge(shotsDF, on= 'player_id', how='outer')\n",
    "\n",
    "# Drop rows when player column is Nan\n",
    "DF.dropna(subset='player', inplace= True)\n",
    "\n",
    "# heatmap for missing values discovry\n",
    "sns.heatmap(DF.isna())"
   ]
  },
  {
   "cell_type": "markdown",
   "id": "3310a4dc",
   "metadata": {},
   "source": [
    "NAN values in other columns just indicate that the player did not perform such event, thus we'll replace them with Zeros"
   ]
  },
  {
   "cell_type": "code",
   "execution_count": 11,
   "id": "a7a8a6eb",
   "metadata": {
    "scrolled": false
   },
   "outputs": [
    {
     "data": {
      "text/html": [
       "<div>\n",
       "<style scoped>\n",
       "    .dataframe tbody tr th:only-of-type {\n",
       "        vertical-align: middle;\n",
       "    }\n",
       "\n",
       "    .dataframe tbody tr th {\n",
       "        vertical-align: top;\n",
       "    }\n",
       "\n",
       "    .dataframe thead th {\n",
       "        text-align: right;\n",
       "    }\n",
       "</style>\n",
       "<table border=\"1\" class=\"dataframe\">\n",
       "  <thead>\n",
       "    <tr style=\"text-align: right;\">\n",
       "      <th></th>\n",
       "      <th>player_id</th>\n",
       "      <th>player</th>\n",
       "      <th>Passes completed</th>\n",
       "      <th>Passes</th>\n",
       "      <th>Passing completion rate</th>\n",
       "      <th>Progressive passes</th>\n",
       "      <th>Progressive carries</th>\n",
       "      <th>Pressures</th>\n",
       "      <th>Completed dribbles</th>\n",
       "      <th>xG</th>\n",
       "      <th>number of shots</th>\n",
       "      <th>xG/Shot</th>\n",
       "    </tr>\n",
       "  </thead>\n",
       "  <tbody>\n",
       "    <tr>\n",
       "      <th>0</th>\n",
       "      <td>2941</td>\n",
       "      <td>Ismaïla Sarr</td>\n",
       "      <td>12.0</td>\n",
       "      <td>20.0</td>\n",
       "      <td>60.00</td>\n",
       "      <td>22.0</td>\n",
       "      <td>13.0</td>\n",
       "      <td>50.0</td>\n",
       "      <td>9.0</td>\n",
       "      <td>1.85</td>\n",
       "      <td>10.0</td>\n",
       "      <td>0.18</td>\n",
       "    </tr>\n",
       "    <tr>\n",
       "      <th>1</th>\n",
       "      <td>2954</td>\n",
       "      <td>Youri Tielemans</td>\n",
       "      <td>6.0</td>\n",
       "      <td>7.0</td>\n",
       "      <td>85.71</td>\n",
       "      <td>10.0</td>\n",
       "      <td>0.0</td>\n",
       "      <td>15.0</td>\n",
       "      <td>1.0</td>\n",
       "      <td>0.00</td>\n",
       "      <td>0.0</td>\n",
       "      <td>0.00</td>\n",
       "    </tr>\n",
       "    <tr>\n",
       "      <th>2</th>\n",
       "      <td>2972</td>\n",
       "      <td>Marcus Thuram</td>\n",
       "      <td>10.0</td>\n",
       "      <td>17.0</td>\n",
       "      <td>58.82</td>\n",
       "      <td>4.0</td>\n",
       "      <td>6.0</td>\n",
       "      <td>30.0</td>\n",
       "      <td>4.0</td>\n",
       "      <td>0.12</td>\n",
       "      <td>1.0</td>\n",
       "      <td>0.12</td>\n",
       "    </tr>\n",
       "    <tr>\n",
       "      <th>3</th>\n",
       "      <td>2988</td>\n",
       "      <td>Memphis Depay</td>\n",
       "      <td>17.0</td>\n",
       "      <td>27.0</td>\n",
       "      <td>62.96</td>\n",
       "      <td>23.0</td>\n",
       "      <td>8.0</td>\n",
       "      <td>45.0</td>\n",
       "      <td>3.0</td>\n",
       "      <td>1.18</td>\n",
       "      <td>10.0</td>\n",
       "      <td>0.12</td>\n",
       "    </tr>\n",
       "    <tr>\n",
       "      <th>4</th>\n",
       "      <td>2995</td>\n",
       "      <td>Ángel Fabián Di María Hernández</td>\n",
       "      <td>20.0</td>\n",
       "      <td>24.0</td>\n",
       "      <td>83.33</td>\n",
       "      <td>51.0</td>\n",
       "      <td>24.0</td>\n",
       "      <td>34.0</td>\n",
       "      <td>18.0</td>\n",
       "      <td>0.53</td>\n",
       "      <td>7.0</td>\n",
       "      <td>0.08</td>\n",
       "    </tr>\n",
       "  </tbody>\n",
       "</table>\n",
       "</div>"
      ],
      "text/plain": [
       "   player_id                           player  Passes completed  Passes  \\\n",
       "0       2941                     Ismaïla Sarr              12.0    20.0   \n",
       "1       2954                  Youri Tielemans               6.0     7.0   \n",
       "2       2972                    Marcus Thuram              10.0    17.0   \n",
       "3       2988                    Memphis Depay              17.0    27.0   \n",
       "4       2995  Ángel Fabián Di María Hernández              20.0    24.0   \n",
       "\n",
       "   Passing completion rate  Progressive passes  Progressive carries  \\\n",
       "0                    60.00                22.0                 13.0   \n",
       "1                    85.71                10.0                  0.0   \n",
       "2                    58.82                 4.0                  6.0   \n",
       "3                    62.96                23.0                  8.0   \n",
       "4                    83.33                51.0                 24.0   \n",
       "\n",
       "   Pressures  Completed dribbles    xG  number of shots  xG/Shot  \n",
       "0       50.0                 9.0  1.85             10.0     0.18  \n",
       "1       15.0                 1.0  0.00              0.0     0.00  \n",
       "2       30.0                 4.0  0.12              1.0     0.12  \n",
       "3       45.0                 3.0  1.18             10.0     0.12  \n",
       "4       34.0                18.0  0.53              7.0     0.08  "
      ]
     },
     "execution_count": 11,
     "metadata": {},
     "output_type": "execute_result"
    }
   ],
   "source": [
    "# Fill Nan values with 0s\n",
    "DF.fillna(0, inplace= True)\n",
    "\n",
    "# change order of clumns\n",
    "DF= DF.reindex(columns=['player_id', 'player', 'Passes completed', 'Passes', 'Passing completion rate',\n",
    "                   'Progressive passes', 'Progressive carries', 'Pressures', 'Completed dribbles',\n",
    "                   'xG', 'number of shots', 'xG/Shot'])\n",
    "\n",
    "DF.head()"
   ]
  },
  {
   "cell_type": "markdown",
   "id": "f191f0b1",
   "metadata": {},
   "source": [
    "## Player profile: Azzedine Ounahi"
   ]
  },
  {
   "cell_type": "markdown",
   "id": "74738005",
   "metadata": {},
   "source": [
    "##### 1. Horizontal bars plot "
   ]
  },
  {
   "cell_type": "code",
   "execution_count": 12,
   "id": "7e296530",
   "metadata": {},
   "outputs": [
    {
     "data": {
      "text/plain": [
       "[97, 97, 51, 65, 91, 97, 98, 67, 49]"
      ]
     },
     "execution_count": 12,
     "metadata": {},
     "output_type": "execute_result"
    }
   ],
   "source": [
    "DF_= DF.drop(['number of shots'], axis= 1)\n",
    "values= DF_.loc[DF_['player']== 'Azzedine Ounahi'].values.tolist()[0][2:]\n",
    "metrics= DF_.columns.values.tolist()[2:]\n",
    "percentiles = []\n",
    "\n",
    "for x in range(len(metrics)):\n",
    "    percentiles.append(math.floor(scipy.stats.percentileofscore(DF_[metrics[x]], values[x])))\n",
    "\n",
    "# Azzedine ounahi's percentiles data\n",
    "percentiles"
   ]
  },
  {
   "cell_type": "code",
   "execution_count": 13,
   "id": "ab903e07",
   "metadata": {},
   "outputs": [
    {
     "data": {
      "text/plain": [
       "<matplotlib.image.AxesImage at 0x2296d6a7a00>"
      ]
     },
     "execution_count": 13,
     "metadata": {},
     "output_type": "execute_result"
    },
    {
     "data": {
      "image/png": "[encoded data removed]",
      "text/plain": [
       "<Figure size 504x648 with 2 Axes>"
      ]
     },
     "metadata": {},
     "output_type": "display_data"
    }
   ],
   "source": [
    "# Set the figure \n",
    "fig, ax= plt.subplots()\n",
    "fig.set_size_inches(7, 9)\n",
    "fig.set_facecolor('white')\n",
    "labels= metrics\n",
    "\n",
    "# Horizontal bars plot\n",
    "ax.barh(labels, percentiles, align='center', color= 'black', alpha=.8, zorder= 2)\n",
    "ax.grid(axis='x', alpha=.5, linestyle='--', zorder= 1)\n",
    "\n",
    "# Set ticks visibility to false\n",
    "ax.tick_params(tick1On=False, labelsize=12)\n",
    "\n",
    "# set spines visibility to false \n",
    "ax.spines.left.set_visible(False)\n",
    "ax.spines.right.set_visible(False)\n",
    "ax.spines.top.set_visible(False)\n",
    "ax.spines.bottom.set_visible(False)\n",
    "\n",
    "# Set titles \n",
    "title= 'Azzedine Ounahi'\n",
    "subtitle= 'Compared to other players in the WC 22'\n",
    "fig.text(.4, .97, title, fontsize=20, fontweight= 'bold', ha= 'center', color='black', alpha=.8)\n",
    "fig.text(.42, .93, subtitle, fontsize=15, ha= 'center', color='black', alpha=.6)\n",
    "\n",
    "# Add Statsbomb image \n",
    "img_dir= \"C:/Users/pc/Desktop/statsbomb.png\"    \n",
    "ax= fig.add_axes([.74, -0.07, 0.3, 0.2])\n",
    "ax.axis(\"off\")\n",
    "img = Image.open(img_dir)\n",
    "ax.imshow(img)"
   ]
  },
  {
   "cell_type": "markdown",
   "id": "d77a0500",
   "metadata": {},
   "source": [
    "##### 2. Distribution plot "
   ]
  },
  {
   "cell_type": "code",
   "execution_count": 36,
   "id": "7a8a6bc0",
   "metadata": {},
   "outputs": [
    {
     "data": {
      "text/plain": [
       "<matplotlib.image.AxesImage at 0x2296a5244c0>"
      ]
     },
     "execution_count": 36,
     "metadata": {},
     "output_type": "execute_result"
    },
    {
     "data": {
      "image/png": "[encoded data removed]",
      "text/plain": [
       "<Figure size 576x864 with 10 Axes>"
      ]
     },
     "metadata": {},
     "output_type": "display_data"
    }
   ],
   "source": [
    "fig, ax= plt.subplots(9, 1)\n",
    "fig.set_size_inches(8, 12)\n",
    "fig.set_facecolor('white')\n",
    "plt.subplots_adjust(hspace= 2)\n",
    "\n",
    "# show the plot\n",
    "\n",
    "# make the distribution plots \n",
    "for i in range(len(ax)):\n",
    "    \n",
    "    ax[i].tick_params(tick1On=False)\n",
    "    ax[i].axes.yaxis.set_ticklabels([])\n",
    "    ax[i].spines.left.set_visible(False)\n",
    "    ax[i].spines.right.set_visible(False)\n",
    "    ax[i].spines.top.set_visible(False)\n",
    "    ax[i].spines.bottom.set_visible(False)\n",
    "    ax[i].patch.set_alpha(0)\n",
    "    \n",
    "    sns.kdeplot(DF_[metrics[i]],color='grey',shade=True, ax= ax[i])\n",
    "    ax[i].axvline(x= values[i], color='black', alpha= .4, ls='--', lw=2)\n",
    "    ax[i].text(1.02, 0.9, values[i], ha='right', va='center', fontweight= 'bold', transform=ax[i].transAxes)\n",
    "\n",
    "    ax[i].set_xticks([DF_[metrics[i]].min(), DF_[metrics[i]].max()])\n",
    "    ax[i].set_xlabel('')\n",
    "    ax[i].set_ylabel(labels[i], fontsize= 12)\n",
    "    ax[i].yaxis.get_label().set_rotation(0)\n",
    "    ax[i].yaxis.get_label().set_ha('right')\n",
    "\n",
    "title= 'Azzedine Ounahi'\n",
    "subtitle= 'Compared to other players in the WC 22'\n",
    "fig.text(.4, .97, title, fontsize=20, fontweight= 'bold', ha= 'center', color='black', alpha=.8)\n",
    "fig.text(.42, .93, subtitle, fontsize=15, ha= 'center', color='black', alpha=.6)\n",
    "\n",
    "# Add Statsbomb image \n",
    "img_dir= \"C:/Users/pc/Desktop/statsbomb.png\"    \n",
    "ax= fig.add_axes([.74, -0.07, 0.3, 0.2])\n",
    "ax.axis(\"off\")\n",
    "img = Image.open(img_dir)\n",
    "ax.imshow(img)"
   ]
  }
 ],
 "metadata": {
  "kernelspec": {
   "display_name": "Python 3 (ipykernel)",
   "language": "python",
   "name": "python3"
  },
  "language_info": {
   "codemirror_mode": {
    "name": "ipython",
    "version": 3
   },
   "file_extension": ".py",
   "mimetype": "text/x-python",
   "name": "python",
   "nbconvert_exporter": "python",
   "pygments_lexer": "ipython3",
   "version": "3.9.12"
  }
 },
 "nbformat": 4,
 "nbformat_minor": 5
}
