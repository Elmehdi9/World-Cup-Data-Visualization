{
 "cells": [
  {
   "cell_type": "markdown",
   "id": "101419fa",
   "metadata": {},
   "source": [
    "## Event Data Extraction and Saving\n",
    "In this notebook, we will extract various sorts of events such as dribbles, shoots, passes, and carry and save them in parquet format so that we can import them anytime we need them rather than extracting from StatsBomb Api each time.\n"
   ]
  },
  {
   "cell_type": "markdown",
   "id": "b262019d",
   "metadata": {},
   "source": [
    "##### Imports "
   ]
  },
  {
   "cell_type": "code",
   "execution_count": 1,
   "id": "985a53a9",
   "metadata": {},
   "outputs": [],
   "source": [
    "# To extract data\n",
    "from statsbombpy import sb\n",
    "# To save data in parquet format\n",
    "import pandas as pd"
   ]
  },
  {
   "cell_type": "markdown",
   "id": "35dd7c94",
   "metadata": {},
   "source": [
    "##### Data Extraction\n"
   ]
  },
  {
   "cell_type": "code",
   "execution_count": 2,
   "id": "4aadbf3e",
   "metadata": {},
   "outputs": [
    {
     "name": "stderr",
     "output_type": "stream",
     "text": [
      "C:\\Users\\pc\\anaconda3\\lib\\site-packages\\statsbombpy\\api_client.py:21: NoAuthWarning: credentials were not supplied. open data access only\n",
      "  warnings.warn(\n"
     ]
    },
    {
     "data": {
      "text/html": [
       "<div>\n",
       "<style scoped>\n",
       "    .dataframe tbody tr th:only-of-type {\n",
       "        vertical-align: middle;\n",
       "    }\n",
       "\n",
       "    .dataframe tbody tr th {\n",
       "        vertical-align: top;\n",
       "    }\n",
       "\n",
       "    .dataframe thead th {\n",
       "        text-align: right;\n",
       "    }\n",
       "</style>\n",
       "<table border=\"1\" class=\"dataframe\">\n",
       "  <thead>\n",
       "    <tr style=\"text-align: right;\">\n",
       "      <th></th>\n",
       "      <th>competition_id</th>\n",
       "      <th>season_id</th>\n",
       "      <th>country_name</th>\n",
       "      <th>competition_name</th>\n",
       "      <th>competition_gender</th>\n",
       "      <th>competition_youth</th>\n",
       "      <th>competition_international</th>\n",
       "      <th>season_name</th>\n",
       "      <th>match_updated</th>\n",
       "      <th>match_updated_360</th>\n",
       "      <th>match_available_360</th>\n",
       "      <th>match_available</th>\n",
       "    </tr>\n",
       "  </thead>\n",
       "  <tbody>\n",
       "    <tr>\n",
       "      <th>18</th>\n",
       "      <td>43</td>\n",
       "      <td>106</td>\n",
       "      <td>International</td>\n",
       "      <td>FIFA World Cup</td>\n",
       "      <td>male</td>\n",
       "      <td>False</td>\n",
       "      <td>True</td>\n",
       "      <td>2022</td>\n",
       "      <td>2023-02-15T14:47:08.275638</td>\n",
       "      <td>2023-02-13T21:02:15.820310</td>\n",
       "      <td>2023-02-13T21:02:15.820310</td>\n",
       "      <td>2023-02-15T14:47:08.275638</td>\n",
       "    </tr>\n",
       "  </tbody>\n",
       "</table>\n",
       "</div>"
      ],
      "text/plain": [
       "    competition_id  season_id   country_name competition_name  \\\n",
       "18              43        106  International   FIFA World Cup   \n",
       "\n",
       "   competition_gender  competition_youth  competition_international  \\\n",
       "18               male              False                       True   \n",
       "\n",
       "   season_name               match_updated           match_updated_360  \\\n",
       "18        2022  2023-02-15T14:47:08.275638  2023-02-13T21:02:15.820310   \n",
       "\n",
       "           match_available_360             match_available  \n",
       "18  2023-02-13T21:02:15.820310  2023-02-15T14:47:08.275638  "
      ]
     },
     "execution_count": 2,
     "metadata": {},
     "output_type": "execute_result"
    }
   ],
   "source": [
    "df_comps=  sb.competitions()\n",
    "\n",
    "# Get competition and season ids \n",
    "df_comps[(df_comps.competition_name== 'FIFA World Cup') & (df_comps.season_name== '2022')]"
   ]
  },
  {
   "cell_type": "code",
   "execution_count": 3,
   "id": "770d2448",
   "metadata": {},
   "outputs": [
    {
     "name": "stderr",
     "output_type": "stream",
     "text": [
      "C:\\Users\\pc\\anaconda3\\lib\\site-packages\\statsbombpy\\api_client.py:21: NoAuthWarning: credentials were not supplied. open data access only\n",
      "  warnings.warn(\n"
     ]
    }
   ],
   "source": [
    "# Extract grouped events\n",
    "grouped_events = sb.competition_events(\n",
    "    country=\"International\",\n",
    "    division= \"FIFA World Cup\",\n",
    "    season=\"2022\",\n",
    "    split=True\n",
    ")"
   ]
  },
  {
   "cell_type": "markdown",
   "id": "fa31fe70",
   "metadata": {},
   "source": [
    "##### Saving Data in parquet format "
   ]
  },
  {
   "cell_type": "code",
   "execution_count": 4,
   "id": "882fba95",
   "metadata": {},
   "outputs": [],
   "source": [
    "# different types of events list\n",
    "events= ['dribbles', 'shots', 'passes', 'carrys', 'inteceptions', 'pressures']\n",
    "\n",
    "# Saving\n",
    "for event in events:\n",
    "    pd.DataFrame(grouped_events[event]).to_parquet('../data/{}.parquet'.format(event))"
   ]
  }
 ],
 "metadata": {
  "kernelspec": {
   "display_name": "Python 3 (ipykernel)",
   "language": "python",
   "name": "python3"
  },
  "language_info": {
   "codemirror_mode": {
    "name": "ipython",
    "version": 3
   },
   "file_extension": ".py",
   "mimetype": "text/x-python",
   "name": "python",
   "nbconvert_exporter": "python",
   "pygments_lexer": "ipython3",
   "version": "3.9.12"
  }
 },
 "nbformat": 4,
 "nbformat_minor": 5
}
