{
 "cells": [
  {
   "cell_type": "markdown",
   "id": "a80e34a4",
   "metadata": {},
   "source": [
    "### Data Visualization: Shots \n",
    "In this notebook we will try to extract insights out of shots data of the World Cup 2022.\n",
    "\n",
    "1. Shots Map "
   ]
  },
  {
   "cell_type": "markdown",
   "id": "cf354611",
   "metadata": {},
   "source": [
    "##### Imports "
   ]
  },
  {
   "cell_type": "code",
   "execution_count": 1,
   "id": "2bb8664f",
   "metadata": {},
   "outputs": [],
   "source": [
    "import pandas as pd\n",
    "import numpy as np\n",
    "\n",
    "import matplotlib.pyplot as plt \n",
    "from mplsoccer import VerticalPitch, pitch, FontManager "
   ]
  },
  {
   "cell_type": "code",
   "execution_count": 2,
   "id": "0ac58bfc",
   "metadata": {},
   "outputs": [],
   "source": [
    "#Read shots data\n",
    "df= pd.read_parquet('../data/shots.parquet')"
   ]
  },
  {
   "cell_type": "markdown",
   "id": "37d2e562",
   "metadata": {},
   "source": [
    "1. Shots Map"
   ]
  },
  {
   "cell_type": "code",
   "execution_count": 3,
   "id": "c165aa68",
   "metadata": {},
   "outputs": [
    {
     "name": "stderr",
     "output_type": "stream",
     "text": [
      "C:\\Users\\pc\\AppData\\Local\\Temp\\ipykernel_4956\\3847802881.py:5: SettingWithCopyWarning: \n",
      "A value is trying to be set on a copy of a slice from a DataFrame\n",
      "\n",
      "See the caveats in the documentation: https://pandas.pydata.org/pandas-docs/stable/user_guide/indexing.html#returning-a-view-versus-a-copy\n",
      "  df.shot_outcome[df.shot_outcome!= 1]= 0\n"
     ]
    },
    {
     "data": {
      "text/html": [
       "<div>\n",
       "<style scoped>\n",
       "    .dataframe tbody tr th:only-of-type {\n",
       "        vertical-align: middle;\n",
       "    }\n",
       "\n",
       "    .dataframe tbody tr th {\n",
       "        vertical-align: top;\n",
       "    }\n",
       "\n",
       "    .dataframe thead th {\n",
       "        text-align: right;\n",
       "    }\n",
       "</style>\n",
       "<table border=\"1\" class=\"dataframe\">\n",
       "  <thead>\n",
       "    <tr style=\"text-align: right;\">\n",
       "      <th></th>\n",
       "      <th>player_id</th>\n",
       "      <th>player</th>\n",
       "      <th>shot_statsbomb_xg</th>\n",
       "      <th>shot_outcome</th>\n",
       "    </tr>\n",
       "  </thead>\n",
       "  <tbody>\n",
       "    <tr>\n",
       "      <th>0</th>\n",
       "      <td>5503</td>\n",
       "      <td>Lionel Andrés Messi Cuccittini</td>\n",
       "      <td>6.031649</td>\n",
       "      <td>7</td>\n",
       "    </tr>\n",
       "    <tr>\n",
       "      <th>1</th>\n",
       "      <td>3009</td>\n",
       "      <td>Kylian Mbappé Lottin</td>\n",
       "      <td>4.233252</td>\n",
       "      <td>8</td>\n",
       "    </tr>\n",
       "    <tr>\n",
       "      <th>2</th>\n",
       "      <td>5668</td>\n",
       "      <td>Robert Lewandowski</td>\n",
       "      <td>3.125918</td>\n",
       "      <td>2</td>\n",
       "    </tr>\n",
       "  </tbody>\n",
       "</table>\n",
       "</div>"
      ],
      "text/plain": [
       "   player_id                          player  shot_statsbomb_xg shot_outcome\n",
       "0       5503  Lionel Andrés Messi Cuccittini           6.031649            7\n",
       "1       3009            Kylian Mbappé Lottin           4.233252            8\n",
       "2       5668              Robert Lewandowski           3.125918            2"
      ]
     },
     "execution_count": 3,
     "metadata": {},
     "output_type": "execute_result"
    }
   ],
   "source": [
    "# Filter data \n",
    "df[['X', 'Y']]= pd.DataFrame(df.location.to_list(), index= df.index) # Add shots locaiton (X,Y)\n",
    "df= df.loc[df.period!=5] # Exclude penalty shoot-outs shots\n",
    "df.shot_outcome.replace({'Goal': 1}, inplace= True) # Asign 1 to 'Goal'\n",
    "df.shot_outcome[df.shot_outcome!= 1]= 0 \n",
    "\n",
    "# Players cumulative xG and numbre of goals\n",
    "DF= df.groupby(['player_id', 'player'])\\\n",
    "        .agg({'shot_statsbomb_xg': 'sum', 'shot_outcome': 'sum'})\\\n",
    "        .sort_values(by='shot_statsbomb_xg', ascending= False).reset_index()\n",
    "DF.head(3)"
   ]
  },
  {
   "cell_type": "code",
   "execution_count": 17,
   "id": "0e6d545c",
   "metadata": {},
   "outputs": [
    {
     "data": {
      "image/png": "[encoded data removed]",
      "text/plain": [
       "<Figure size 576x720 with 1 Axes>"
      ]
     },
     "metadata": {},
     "output_type": "display_data"
    }
   ],
   "source": [
    "#Plotting\n",
    "pitch = VerticalPitch(pitch_type= 'statsbomb',pad_bottom=0.5, half= True, goal_type= 'box', goal_alpha=0.8,  line_color='black') \n",
    "fig, ax = pitch.draw(figsize=(8, 10))\n",
    "\n",
    "df1= df.loc[df['player']== DF.player[2]]\n",
    "\n",
    "result= df1['shot_outcome'].values.tolist()\n",
    "X_s= df1['X'].values.tolist()\n",
    "Y_s= df1['Y'].values.tolist()\n",
    "xG_s= df1['shot_statsbomb_xg'].values.tolist()\n",
    "\n",
    "# Scatter shots \n",
    "for r, x, y, xG in zip(result, X_s, Y_s, xG_s):\n",
    "    if r == 1:\n",
    "        pitch.scatter(x, y, c='red', s=(xG* 400) + 100,\n",
    "                      edgecolors='black', ax=ax)\n",
    "    else:\n",
    "        pitch.scatter(x, y, c='white', s=(xG* 400) + 100,\n",
    "                      edgecolors='black', ax=ax)"
   ]
  },
  {
   "cell_type": "code",
   "execution_count": null,
   "id": "b7ed587e",
   "metadata": {},
   "outputs": [],
   "source": []
  }
 ],
 "metadata": {
  "kernelspec": {
   "display_name": "Python 3 (ipykernel)",
   "language": "python",
   "name": "python3"
  },
  "language_info": {
   "codemirror_mode": {
    "name": "ipython",
    "version": 3
   },
   "file_extension": ".py",
   "mimetype": "text/x-python",
   "name": "python",
   "nbconvert_exporter": "python",
   "pygments_lexer": "ipython3",
   "version": "3.9.12"
  }
 },
 "nbformat": 4,
 "nbformat_minor": 5
}
